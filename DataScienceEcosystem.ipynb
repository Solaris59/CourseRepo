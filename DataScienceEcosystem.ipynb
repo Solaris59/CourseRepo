{
 "cells": [
  {
   "cell_type": "markdown",
   "metadata": {},
   "source": [
    "<center>\n",
    "    <img src=\"https://cf-courses-data.s3.us.cloud-object-storage.appdomain.cloud/IBMDeveloperSkillsNetwork-DS0105EN-SkillsNetwork/labs/Module2/images/SN_web_lightmode.png\" width=\"300\" alt=\"cognitiveclass.ai logo\">\n",
    "</center>\n"
   ]
  },
  {
   "cell_type": "markdown",
   "metadata": {},
   "source": [
    "#### Add your code below following the instructions given in the course\n"
   ]
  },
  {
   "cell_type": "markdown",
   "metadata": {},
   "source": [
    "# DataScienceEcosystem"
   ]
  },
  {
   "cell_type": "markdown",
   "metadata": {},
   "source": [
    "## Author\n",
    "Hyowon Park"
   ]
  },
  {
   "cell_type": "markdown",
   "metadata": {},
   "source": [
    "<b>Introduction</b>\n",
    "<br>\n",
    "In this notebook, Data Science Tools and Ecosystem are summarized."
   ]
  },
  {
   "cell_type": "markdown",
   "metadata": {},
   "source": [
    "<b> Objectives: </b>\n",
    "<br>\n",
    "<ul>\n",
    "    <li>List of Data Science Languages</li>\n",
    "    <li>List of Data Science Libraries</li>\n",
    "    <li>List of Open Source IDEs</li>\n",
    "    <li>Examples of Simple Arithmetic Operations in Python </li>\n",
    " </ul>"
   ]
  },
  {
   "cell_type": "markdown",
   "metadata": {},
   "source": [
    "<b>Data Science Languages </b>\n",
    "<br>\n",
    "Some of the most popular languages Data Scientists use are:\n",
    "<ol>\n",
    "    <li>Python</li>\n",
    "    <li>R</li>\n",
    "    <li>SQL</li>\n",
    "    <li>Scala</li>\n",
    "    <li>Java</li>\n",
    "    <li>C++</li>\n",
    "    <li>Julia</li>\n",
    "    <li>..and many more!</li>\n",
    " </ol>"
   ]
  },
  {
   "cell_type": "markdown",
   "metadata": {},
   "source": [
    "<b>Data Science Libraries for Python </b>\n",
    "<br>\n",
    "Some of the commonly used libraries for Data Scientists are:\n",
    "<ol>\n",
    "    <li>Pandas</li>\n",
    "    <li>NumPy</li>\n",
    "    <li>Matplotlib</li>\n",
    "    <li>Seaborn</li>\n",
    "    <li>Scikit-leran</li>\n",
    "    <li>Keras</li>\n",
    "    <li>..and many more!</li>\n",
    " </ol>"
   ]
  },
  {
   "cell_type": "markdown",
   "metadata": {},
   "source": [
    "| Data Sicence Tools| \n",
    "| --- |\n",
    "| Jupyter |\n",
    "| RStudio |\n",
    "| Spyder |"
   ]
  },
  {
   "cell_type": "markdown",
   "metadata": {},
   "source": [
    "### Code below shows examples of simple arithmetic expressions in python."
   ]
  },
  {
   "cell_type": "code",
   "execution_count": 4,
   "metadata": {},
   "outputs": [
    {
     "data": {
      "text/plain": [
       "17"
      ]
     },
     "execution_count": 4,
     "metadata": {},
     "output_type": "execute_result"
    }
   ],
   "source": [
    "# Code line below shows simple arithmetic operation of multiplication and addition of integers\n",
    "(3*4)+5"
   ]
  },
  {
   "cell_type": "code",
   "execution_count": 5,
   "metadata": {},
   "outputs": [
    {
     "data": {
      "text/plain": [
       "3.3333333333333335"
      ]
     },
     "execution_count": 5,
     "metadata": {},
     "output_type": "execute_result"
    }
   ],
   "source": [
    "#code line below will convert 200 min to to hours.\n",
    "200/60"
   ]
  }
 ],
 "metadata": {
  "kernelspec": {
   "display_name": "Python 3 (ipykernel)",
   "language": "python",
   "name": "python3"
  },
  "language_info": {
   "codemirror_mode": {
    "name": "ipython",
    "version": 3
   },
   "file_extension": ".py",
   "mimetype": "text/x-python",
   "name": "python",
   "nbconvert_exporter": "python",
   "pygments_lexer": "ipython3",
   "version": "3.10.0"
  }
 },
 "nbformat": 4,
 "nbformat_minor": 4
}
