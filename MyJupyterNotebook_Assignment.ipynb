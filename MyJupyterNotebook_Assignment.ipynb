{
 "cells": [
  {
   "cell_type": "markdown",
   "metadata": {},
   "source": [
    "<center>\n",
    "    <img src=\"https://cf-courses-data.s3.us.cloud-object-storage.appdomain.cloud/IBMDeveloperSkillsNetwork-DS0105EN-SkillsNetwork/labs/Module2/images/SN_web_lightmode.png\" width=\"300\" alt=\"cognitiveclass.ai logo\">\n",
    "</center>\n"
   ]
  },
  {
   "cell_type": "markdown",
   "metadata": {},
   "source": [
    "#### Add your code below following the instructions given in the course\n"
   ]
  },
  {
   "cell_type": "markdown",
   "metadata": {},
   "source": [
    "# My Jupyter Notebook on IBM Watson Studio\n",
    "## (Despite the fact this was not created in Watson Studio)"
   ]
  },
  {
   "cell_type": "markdown",
   "metadata": {},
   "source": [
    "<b>Name: Hyowon Park</b>\n",
    "<br>\n",
    "Occupation: HW Engineer"
   ]
  },
  {
   "cell_type": "markdown",
   "metadata": {},
   "source": [
    "<i>I am interested in data science because of the immense value that data holds in our society, and the incredible tools that are being developed at exponential speed to extract value out of it.</i>"
   ]
  },
  {
   "cell_type": "markdown",
   "metadata": {},
   "source": [
    "### Code below asks for user's name, and replies back with a personalized greeting"
   ]
  },
  {
   "cell_type": "code",
   "execution_count": 3,
   "metadata": {},
   "outputs": [
    {
     "name": "stdout",
     "output_type": "stream",
     "text": [
      "What is your name?\n",
      "Scott\n",
      "Hello, Scott. Nice to meet you!\n"
     ]
    }
   ],
   "source": [
    "name=input(\"What is your name?\\n\")\n",
    "\n",
    "print(\"Hello, \"+name+\". Nice to meet you!\")"
   ]
  },
  {
   "cell_type": "markdown",
   "metadata": {},
   "source": [
    "<blockquote>Freestyle!</blockquote>\n",
    "<br>\n",
    "What is your favorite ice cream flavor? Pick from below:\n",
    "<ul>\n",
    "    <li>Vanilla bean</li>\n",
    "    <li>Chocolate</li>\n",
    "    <li>Mint chocolate chip</li>\n",
    "    <li>Chocolate chip cookie dough</li>\n",
    "    <li>Strawberry</li>\n",
    "    <li>Moosetracks</li>\n",
    "    <li>Coffee</li>\n",
    "    <li>Rocky road</li>\n",
    "    <li>Green tea</li>\n",
    " </ul>\n",
    " <br>\n",
    " My top 3 ice cream flavors are, in order:\n",
    " <ol>\n",
    "    <li>Vanilla bean</li>\n",
    "    <li>Green tea</li>\n",
    "    <li>Strawberry</li>\n",
    " </ol>\n",
    " "
   ]
  }
 ],
 "metadata": {
  "kernelspec": {
   "display_name": "Python 3 (ipykernel)",
   "language": "python",
   "name": "python3"
  },
  "language_info": {
   "codemirror_mode": {
    "name": "ipython",
    "version": 3
   },
   "file_extension": ".py",
   "mimetype": "text/x-python",
   "name": "python",
   "nbconvert_exporter": "python",
   "pygments_lexer": "ipython3",
   "version": "3.10.0"
  }
 },
 "nbformat": 4,
 "nbformat_minor": 4
}
